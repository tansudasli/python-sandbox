{
 "cells": [
  {
   "cell_type": "code",
   "execution_count": 1,
   "metadata": {
    "pycharm": {
     "is_executing": false
    }
   },
   "outputs": [
    {
     "name": "stdout",
     "output_type": "stream",
     "text": [
      "Using matplotlib backend: Qt5Agg\n"
     ]
    }
   ],
   "source": [
    "%matplotlib\n"
   ]
  },
  {
   "cell_type": "code",
   "execution_count": 1,
   "metadata": {
    "pycharm": {
     "is_executing": false,
     "metadata": false,
     "name": "#%%\n"
    }
   },
   "outputs": [],
   "source": [
    "import matplotlib.pyplot as plt\n",
    "import numpy as np\n",
    "import random\n",
    "import seaborn as sns\n"
   ]
  },
  {
   "cell_type": "code",
   "execution_count": 6,
   "metadata": {
    "pycharm": {
     "is_executing": false,
     "metadata": false,
     "name": "#%%\n"
    }
   },
   "outputs": [
    {
     "name": "stdout",
     "output_type": "stream",
     "text": [
      "[6, 1, 6, 5, 6, 4, 2, 4, 3, 2, 3, 1, 5, 1, 3, 4, 5, 1, 6, 3, 3, 1, 6, 6, 4, 1, 3, 5, 6, 3, 1, 1, 3, 6, 1, 5, 6, 2, 1, 4, 2, 3, 3, 2, 4, 4, 1, 3, 5, 6, 2, 5, 1, 6, 4, 4, 5, 1, 1, 3, 5, 4, 5, 3, 1, 1, 3, 3, 4, 2, 5, 2, 2, 3, 5, 5, 1, 2, 3, 1, 5, 6, 2, 2, 4, 4, 5, 1, 2, 1, 6, 3, 3, 4, 5, 5, 2, 5, 3, 1, 6, 2, 5, 3, 6, 3, 5, 6, 5, 1, 2, 1, 1, 5, 4, 6, 3, 4, 2, 4, 2, 4, 4, 5, 2, 6, 5, 1, 6, 4, 2, 1, 1, 2, 4, 3, 4, 1, 6, 4, 2, 6, 5, 6, 1, 6, 3, 6, 6, 3, 4, 6, 6, 3, 3, 2, 1, 4, 2, 4, 4, 1, 5, 3, 1, 3, 4, 5, 2, 3, 2, 3, 5, 2, 3, 2, 2, 6, 1, 6, 3, 6, 6, 6, 5, 2, 6, 4, 2, 1, 5, 1, 1, 2, 6, 1, 5, 4, 2, 6, 2, 4, 1, 3, 3, 3, 2, 4, 4, 2, 1, 1, 6, 5, 1, 3, 1, 3, 4, 5, 3, 1, 2, 6, 1, 5, 1, 4, 3, 2, 5, 4, 1, 5, 1, 4, 6, 4, 4, 1, 1, 2, 5, 4, 3, 1, 5, 1, 3, 4, 3, 2, 1, 6, 3, 3, 5, 2, 3, 2, 2, 3, 5, 3, 5, 6, 1, 5, 1, 6, 2, 1, 1, 6, 2, 6, 5, 2, 4, 6, 1, 1, 6, 4, 1, 2, 4, 6, 5, 3, 6, 1, 4, 1, 5, 4, 5, 3, 1, 1, 3, 3, 3, 1, 3, 4, 1, 3, 1, 6, 3, 1, 6, 3, 4, 4, 4, 6, 2, 3, 1, 6, 1, 5, 3, 4, 6, 6, 3, 4, 2, 5, 4, 6, 5, 2, 3, 5, 3, 4, 5, 3, 6, 4, 5, 4, 4, 6, 6, 6, 5, 1, 3, 6, 2, 6, 6, 2, 1, 6, 1, 4, 2, 3, 5, 4, 5, 4, 2, 4, 4, 1, 1, 6, 4, 4, 5, 5, 1, 6, 1, 6, 6, 1, 4, 1, 1, 1, 6, 6, 4, 1, 6, 4, 2, 2, 1, 1, 5, 5, 2, 6, 4, 2, 6, 3, 1, 3, 2, 5, 6, 5, 4, 1, 4, 1, 6, 1, 3, 3, 4, 1, 1, 2, 3, 2, 5, 6, 2, 6, 2, 4, 2, 4, 1, 1, 5, 5, 6, 3, 3, 3, 3, 3, 1, 3, 6, 2, 4, 5, 5, 5, 3, 5, 6, 6, 3, 6, 2, 1, 4, 6, 6, 5, 6, 1, 5, 2, 1, 2, 4, 1, 4, 2, 4, 5, 2, 4, 3, 4, 5, 5, 4, 3, 5, 5, 5, 6, 3, 6, 1, 1, 5, 2, 5, 3, 6, 1, 6, 4, 5, 5, 6, 4, 6, 2, 6, 5, 4, 5, 5, 2, 4, 4, 4, 6, 4, 2, 3, 3, 5, 4, 2, 3, 4, 6, 5, 1, 2, 6, 3, 2, 4, 2, 3, 1, 1, 6, 3, 4, 5, 1, 1, 4, 5, 1, 4, 4, 1, 5, 4, 5, 1, 3, 3, 5, 3, 4, 2, 4, 1, 6, 4, 4, 1, 4, 4, 1, 4, 2, 6, 6, 6, 5, 4, 3, 6, 3, 4, 4, 6, 3, 5, 3, 5, 4, 3, 2, 5, 5, 1, 6, 5, 6, 1, 2, 5, 3, 6, 2]\n"
     ]
    }
   ],
   "source": [
    "rolls = [random.randrange(1, 7) for i in range(600)]\n",
    "print(rolls)\n"
   ]
  },
  {
   "cell_type": "code",
   "execution_count": 7,
   "metadata": {
    "pycharm": {
     "is_executing": false,
     "metadata": false,
     "name": "#%%\n"
    }
   },
   "outputs": [
    {
     "data": {
      "text/plain": [
       "(array([1, 2, 3, 4, 5, 6]), array([112,  83,  98, 107,  97, 103]))"
      ]
     },
     "execution_count": 7,
     "metadata": {},
     "output_type": "execute_result"
    }
   ],
   "source": [
    "values, frequencies = np.unique(rolls, return_counts=True)\n",
    "values, frequencies\n"
   ]
  },
  {
   "cell_type": "code",
   "execution_count": 12,
   "metadata": {
    "pycharm": {
     "is_executing": false,
     "metadata": false,
     "name": "#%%\n"
    }
   },
   "outputs": [
    {
     "data": {
      "text/plain": [
       "<matplotlib.axes._subplots.AxesSubplot at 0x1a220734a8>"
      ]
     },
     "execution_count": 12,
     "metadata": {},
     "output_type": "execute_result"
    },
    {
     "data": {
      "image/png": "[encoded data removed]",
      "text/plain": [
       "<Figure size 432x288 with 1 Axes>"
      ]
     },
     "metadata": {},
     "output_type": "display_data"
    }
   ],
   "source": [
    "title = f\"rollin dices {len(rolls)} times\"\n",
    "\n",
    "sns.set_style(\"whitegrid\")\n",
    "axes = sns.barplot(x=values, y=frequencies, palette=\"bright\")\n",
    "\n",
    "axes.set_title(title)\n",
    "axes.set(xlabel=\"dice value\", ylabel=\"frequency\")\n",
    "axes\n",
    "\n"
   ]
  }
 ],
 "metadata": {
  "kernelspec": {
   "display_name": "Python 3",
   "language": "python",
   "name": "python3"
  },
  "language_info": {
   "codemirror_mode": {
    "name": "ipython",
    "version": 3
   },
   "file_extension": ".py",
   "mimetype": "text/x-python",
   "name": "python",
   "nbconvert_exporter": "python",
   "pygments_lexer": "ipython3",
   "version": "3.7.1"
  },
  "pycharm": {
   "stem_cell": {
    "cell_type": "raw",
    "source": [],
    "metadata": {
     "collapsed": false
    }
   }
  }
 },
 "nbformat": 4,
 "nbformat_minor": 1
}