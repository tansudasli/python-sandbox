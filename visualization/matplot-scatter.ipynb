{
  "cells": [
    {
      "cell_type": "code",
      "execution_count": 17,
      "metadata": {
        "pycharm": {
          "is_executing": false
        }
      },
      "outputs": [
        {
          "name": "stdout",
          "text": [
            "Using matplotlib backend: Qt5Agg\n"
          ],
          "output_type": "stream"
        }
      ],
      "source": "#enable matplotlib backend\n%matplotlib\n"
    },
    {
      "cell_type": "code",
      "execution_count": 18,
      "outputs": [],
      "source": "import matplotlib.pyplot as plt\nimport scipy as sp",
      "metadata": {
        "pycharm": {
          "metadata": false,
          "name": "#%%\n",
          "is_executing": false
        }
      }
    },
    {
      "cell_type": "code",
      "execution_count": 19,
      "metadata": {
        "pycharm": {
          "is_executing": false,
          "metadata": false,
          "name": "#%%\n"
        }
      },
      "outputs": [],
      "source": "x \u003d [1,2,3]\ny \u003d [3,5,7]"
    },
    {
      "cell_type": "code",
      "execution_count": 22,
      "metadata": {
        "pycharm": {
          "is_executing": false,
          "metadata": false,
          "name": "#%%\n"
        }
      },
      "outputs": [],
      "source": "plt.plot(x, y, \u0027r^\u0027)\n\n#adjust x, y axis regarding meaningful values\nplt.axis([0, max(x) + sp.mean(x), 0, max(y) + sp.mean(y)])\n\nplt.show()"
    }
  ],
  "metadata": {
    "kernelspec": {
      "display_name": "Python 3",
      "language": "python",
      "name": "python3"
    },
    "language_info": {
      "codemirror_mode": {
        "name": "ipython",
        "version": 3
      },
      "file_extension": ".py",
      "mimetype": "text/x-python",
      "name": "python",
      "nbconvert_exporter": "python",
      "pygments_lexer": "ipython3",
      "version": "3.7.1"
    }
  },
  "nbformat": 4,
  "nbformat_minor": 1
}