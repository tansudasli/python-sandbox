{
  "cells": [
    {
      "cell_type": "code",
      "execution_count": 9,
      "metadata": {
        "pycharm": {
          "is_executing": false
        }
      },
      "outputs": [
        {
          "name": "stdout",
          "text": [
            "Using matplotlib backend: Qt5Agg\n"
          ],
          "output_type": "stream"
        }
      ],
      "source": "#enable matplotlib backend\n%matplotlib\n"
    },
    {
      "cell_type": "code",
      "execution_count": 10,
      "outputs": [],
      "source": "import numpy as np\nimport matplotlib.pyplot as plt\nimport pandas as pd",
      "metadata": {
        "pycharm": {
          "metadata": false,
          "name": "#%%\n",
          "is_executing": false
        }
      }
    },
    {
      "cell_type": "code",
      "execution_count": 11,
      "metadata": {
        "pycharm": {
          "is_executing": false
        }
      },
      "outputs": [],
      "source": "df \u003d pd.DataFrame({\n    \"name\": [\"ali\", \"veli\", \"deli\", \"helli\", \"melli\"],\n    \"age\": [20, 30, 22, 25, 31],\n    \"gender\": [\"M\", \"M\", \"F\", \"F\", \"M\"],\n    \"state\": [\"ca\", \"ca\", \"dc\", \"tx\", \"ca\"],\n    \"numberOfChildren\": [3, 2, 1, 4, 5],\n    \"numOfPets\": [1,0,0,1,2]\n})"
    },
    {
      "cell_type": "markdown",
      "metadata": {
        "pycharm": {}
      },
      "source": [
        "## 1 st way"
      ]
    },
    {
      "cell_type": "code",
      "execution_count": 4,
      "metadata": {
        "pycharm": {
          "metadata": false,
          "name": "#%%\n",
          "is_executing": false
        }
      },
      "outputs": [
        {
          "data": {
            "text/plain": "\u003cmatplotlib.axes._subplots.AxesSubplot at 0x128b48860\u003e"
          },
          "metadata": {},
          "output_type": "execute_result",
          "execution_count": 4
        },
        {
          "data": {
            "text/plain": "\u003cFigure size 432x288 with 1 Axes\u003e",
            "image/png": "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\u003d\n"
          },
          "metadata": {
            "needs_background": "light"
          },
          "output_type": "display_data"
        }
      ],
      "source": "# pandas 2 plot\ndf.plot(x\u003d\"age\", y\u003d\"numOfPets\")\n"
    },
    {
      "cell_type": "markdown",
      "metadata": {
        "pycharm": {}
      },
      "source": [
        "## 2nd way"
      ]
    },
    {
      "cell_type": "code",
      "execution_count": 12,
      "metadata": {
        "pycharm": {
          "is_executing": false
        }
      },
      "outputs": [
        {
          "data": {
            "text/plain": "([20, 30, 22, 25, 31], [1, 0, 0, 1, 2])"
          },
          "metadata": {},
          "output_type": "execute_result",
          "execution_count": 12
        }
      ],
      "source": "\nx \u003d df[\"age\"].tolist()\ny \u003d df[\"numOfPets\"].tolist()\nx, y\n"
    },
    {
      "cell_type": "code",
      "execution_count": 13,
      "metadata": {
        "pycharm": {
          "is_executing": false
        }
      },
      "outputs": [],
      "source": "fig, ax \u003d plt.subplots()\nax.scatter(x, y)\nax.grid(True)\n\nplt.show()"
    }
  ],
  "metadata": {
    "kernelspec": {
      "display_name": "Python 3",
      "language": "python",
      "name": "python3"
    },
    "language_info": {
      "codemirror_mode": {
        "name": "ipython",
        "version": 3
      },
      "file_extension": ".py",
      "mimetype": "text/x-python",
      "name": "python",
      "nbconvert_exporter": "python",
      "pygments_lexer": "ipython3",
      "version": "3.7.1"
    }
  },
  "nbformat": 4,
  "nbformat_minor": 1
}