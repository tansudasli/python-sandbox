{
  "cells": [
    {
      "cell_type": "code",
      "execution_count": 1,
      "metadata": {
        "pycharm": {
          "is_executing": false
        }
      },
      "outputs": [],
      "source": [
        "import pandas as pd"
      ]
    },
    {
      "cell_type": "code",
      "execution_count": 2,
      "metadata": {
        "pycharm": {
          "is_executing": false,
          "metadata": false,
          "name": "#%%\n"
        }
      },
      "outputs": [],
      "source": "# for dataproc on GCP, uncomment\n#df \u003d pd.read_csv(\"https://storage.googleapis.com/spark-dataset-1/datasets/ml-100k/u.data\")\n\n# for on your local, uncomment\ndf \u003d pd.read_csv(\"../../datasets/ml-100k/u.data\")\n"
    },
    {
      "cell_type": "markdown",
      "metadata": {
        "pycharm": {
          "metadata": false
        }
      },
      "source": [
        "# data structure\n",
        "user-id | item-id | rating | timestamp \n"
      ]
    },
    {
      "cell_type": "code",
      "execution_count": 3,
      "metadata": {
        "pycharm": {
          "is_executing": false,
          "metadata": false,
          "name": "#%%\n"
        }
      },
      "outputs": [
        {
          "name": "stdout",
          "output_type": "stream",
          "text": [
            "   196\\t242\\t3\\t881250949\n",
            "0  186\\t302\\t3\\t891717742\n",
            "1   22\\t377\\t1\\t878887116\n",
            "2   244\\t51\\t2\\t880606923\n",
            "3  166\\t346\\t1\\t886397596\n",
            "4  298\\t474\\t4\\t884182806\n"
          ]
        }
      ],
      "source": [
        "print(df.head())"
      ]
    },
    {
      "cell_type": "code",
      "execution_count": 4,
      "metadata": {
        "pycharm": {
          "is_executing": false,
          "metadata": false,
          "name": "#%%\n"
        }
      },
      "outputs": [
        {
          "name": "stdout",
          "output_type": "stream",
          "text": [
            "   196\\t242\\t3\\t881250949\n",
            "0  186\\t302\\t3\\t891717742\n",
            "1   22\\t377\\t1\\t878887116\n",
            "2   244\\t51\\t2\\t880606923\n",
            "3  166\\t346\\t1\\t886397596\n",
            "4  298\\t474\\t4\\t884182806\n",
            "5  115\\t265\\t2\\t881171488\n",
            "6  253\\t465\\t5\\t891628467\n",
            "7  305\\t451\\t3\\t886324817\n",
            "8     6\\t86\\t3\\t883603013\n",
            "9   62\\t257\\t2\\t879372434\n"
          ]
        }
      ],
      "source": [
        "print(df[0:10])\n",
        "\n"
      ]
    },
    {
      "cell_type": "code",
      "execution_count": 12,
      "metadata": {
        "pycharm": {
          "is_executing": false,
          "metadata": false,
          "name": "#%%\n"
        }
      },
      "outputs": [],
      "source": [
        "# for i,v in df.iterrows():\n",
        "#     print(i, v)\n",
        "#     print(i, list(v)) # easy to read\n"
      ]
    },
    {
      "cell_type": "code",
      "execution_count": 13,
      "metadata": {
        "pycharm": {
          "is_executing": false,
          "metadata": false,
          "name": "#%%\n"
        }
      },
      "outputs": [],
      "source": [
        "# df.loc[0:3, \"user-id\"]\n",
        "# df.loc[0:3, [\"user-id\", \"rating\"]]"
      ]
    },
    {
      "cell_type": "code",
      "execution_count": null,
      "metadata": {
        "pycharm": {}
      },
      "outputs": [],
      "source": []
    }
  ],
  "metadata": {
    "kernelspec": {
      "display_name": "Python 3",
      "language": "python",
      "name": "python3"
    },
    "language_info": {
      "codemirror_mode": {
        "name": "ipython",
        "version": 3
      },
      "file_extension": ".py",
      "mimetype": "text/x-python",
      "name": "python",
      "nbconvert_exporter": "python",
      "pygments_lexer": "ipython3",
      "version": "3.6.5"
    }
  },
  "nbformat": 4,
  "nbformat_minor": 2
}