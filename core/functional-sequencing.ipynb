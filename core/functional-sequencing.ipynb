{
  "cells": [
    {
      "cell_type": "code",
      "execution_count": 1,
      "outputs": [
        {
          "data": {
            "text/plain": "111"
          },
          "metadata": {},
          "output_type": "execute_result",
          "execution_count": 1
        }
      ],
      "source": "# comparing default in python \nord(\"o\")\n",
      "metadata": {
        "pycharm": {
          "metadata": false,
          "name": "#%%\n",
          "is_executing": false
        }
      }
    },
    {
      "cell_type": "code",
      "execution_count": 17,
      "outputs": [
        {
          "data": {
            "text/plain": "(\u0027Blue\u0027, \u0027Yellow\u0027)"
          },
          "metadata": {},
          "output_type": "execute_result",
          "execution_count": 17
        }
      ],
      "source": "colors \u003d [\"Red\", \"Blue\", \"orange\", \"Yellow\", \"Grey\", \"green\"]\n\nmin(colors, key\u003dlambda s: s.lower()), \\\nmax(colors, key\u003dlambda s: s.lower())\n\n",
      "metadata": {
        "pycharm": {
          "metadata": false,
          "name": "#%%\n",
          "is_executing": false
        }
      }
    },
    {
      "cell_type": "code",
      "execution_count": 16,
      "outputs": [
        {
          "name": "stdout",
          "text": [
            "ali : 3.2\nveli : 4.5\ndeli : 5.0\nselim : 2.5\n"
          ],
          "output_type": "stream"
        }
      ],
      "source": "# zip \nnames \u003d [\"ali\", \"veli\", \"deli\", \"selim\"]\ngrades \u003d [3.2, 4.5, 5.0, 2.5]\n\nfor name, gpa in zip(names, grades):\n    print(f\"{name} : {gpa}\")",
      "metadata": {
        "pycharm": {
          "metadata": false,
          "name": "#%%\n",
          "is_executing": false
        }
      }
    }
  ],
  "metadata": {
    "language_info": {
      "codemirror_mode": {
        "name": "ipython",
        "version": 2
      },
      "file_extension": ".py",
      "mimetype": "text/x-python",
      "name": "python",
      "nbconvert_exporter": "python",
      "pygments_lexer": "ipython2",
      "version": "2.7.6"
    },
    "kernelspec": {
      "name": "python3",
      "language": "python",
      "display_name": "Python 3"
    },
    "stem_cell": {
      "cell_type": "raw",
      "source": "",
      "metadata": {
        "pycharm": {
          "metadata": false
        }
      }
    }
  },
  "nbformat": 4,
  "nbformat_minor": 0
}