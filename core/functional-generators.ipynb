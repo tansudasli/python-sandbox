{
  "cells": [
    {
      "cell_type": "code",
      "execution_count": 4,
      "metadata": {
        "collapsed": true,
        "pycharm": {
          "is_executing": false
        }
      },
      "outputs": [
        {
          "name": "stdout",
          "text": [
            "1 9 25 49 "
          ],
          "output_type": "stream"
        }
      ],
      "source": "# lazy load\nnumbers \u003d [1, 2, 3, 4, 5, 6, 7]\n\nfor v in (z ** 2 for z in numbers if z % 2 !\u003d 0):\n    print(v, end\u003d\u0027 \u0027)\n"
    },
    {
      "cell_type": "code",
      "execution_count": 5,
      "outputs": [
        {
          "data": {
            "text/plain": "\u003cgenerator object \u003cgenexpr\u003e at 0x10fcf3a20\u003e"
          },
          "metadata": {},
          "output_type": "execute_result",
          "execution_count": 5
        }
      ],
      "source": "# it is an object, lazy loading\n# instead of [], we used ()\nuuu \u003d (z ** 2 for z in numbers if z % 2 !\u003d 0)\nuuu",
      "metadata": {
        "pycharm": {
          "metadata": false,
          "name": "#%%\n",
          "is_executing": false
        }
      }
    }
  ],
  "metadata": {
    "language_info": {
      "codemirror_mode": {
        "name": "ipython",
        "version": 2
      },
      "file_extension": ".py",
      "mimetype": "text/x-python",
      "name": "python",
      "nbconvert_exporter": "python",
      "pygments_lexer": "ipython2",
      "version": "2.7.6"
    },
    "kernelspec": {
      "name": "python3",
      "language": "python",
      "display_name": "Python 3"
    }
  },
  "nbformat": 4,
  "nbformat_minor": 0
}