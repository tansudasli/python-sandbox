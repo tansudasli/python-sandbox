{
  "cells": [
    {
      "cell_type": "markdown",
      "metadata": {
        "collapsed": true,
        "pycharm": {
          "name": "#%% md\n"
        }
      },
      "source": "Test chi-square test for 2 rolling dices and understand the trick.\n"
    },
    {
      "cell_type": "code",
      "execution_count": 202,
      "outputs": [],
      "source": "from numpy import random\nimport numpy\nfrom scipy import stats\n",
      "metadata": {
        "pycharm": {
          "metadata": false,
          "name": "#%%\n",
          "is_executing": false
        }
      }
    },
    {
      "cell_type": "code",
      "execution_count": 265,
      "outputs": [
        {
          "data": {
            "text/plain": "array([[6, 2, 4, ..., 3, 6, 1],\n       [5, 6, 5, ..., 3, 6, 2],\n       [3, 6, 1, ..., 5, 1, 2],\n       [4, 4, 2, ..., 1, 4, 3],\n       [2, 5, 3, ..., 3, 3, 3],\n       [1, 5, 3, ..., 6, 5, 6]])"
          },
          "metadata": {},
          "output_type": "execute_result",
          "execution_count": 265
        }
      ],
      "source": "# roll 6 times\nexpectedDice \u003d random.randint(1, 7, size\u003d(6,20000))\nexpectedDice\n",
      "metadata": {
        "pycharm": {
          "metadata": false,
          "name": "#%%\n",
          "is_executing": false
        }
      }
    },
    {
      "cell_type": "code",
      "execution_count": 266,
      "outputs": [
        {
          "data": {
            "text/plain": "array([[6, 5, 5, ..., 6, 6, 6],\n       [6, 6, 5, ..., 6, 5, 6],\n       [6, 5, 6, ..., 5, 5, 5],\n       [5, 6, 5, ..., 5, 6, 5],\n       [5, 5, 6, ..., 6, 6, 6],\n       [5, 5, 6, ..., 6, 6, 5]])"
          },
          "metadata": {},
          "output_type": "execute_result",
          "execution_count": 266
        }
      ],
      "source": "opponentDice \u003d random.randint(5, 7, size\u003d(6,2000))\nopponentDice\n",
      "metadata": {
        "pycharm": {
          "metadata": false,
          "name": "#%%\n",
          "is_executing": false
        }
      }
    },
    {
      "cell_type": "code",
      "execution_count": 267,
      "outputs": [
        {
          "data": {
            "text/plain": "array([20106, 20042, 20067, 20127, 19739, 19919])"
          },
          "metadata": {},
          "output_type": "execute_result",
          "execution_count": 267
        }
      ],
      "source": "# calculate occurrence\nindexOfExpectedDice, occurrenceOfExpectedDice \u003d numpy.unique(expectedDice, return_counts\u003dTrue)\noccurrenceOfExpectedDice\n",
      "metadata": {
        "pycharm": {
          "metadata": false,
          "name": "#%%\n",
          "is_executing": false
        }
      }
    },
    {
      "cell_type": "code",
      "execution_count": 268,
      "outputs": [
        {
          "data": {
            "text/plain": "array([   0,    0,    0,    0, 6104, 5896])"
          },
          "metadata": {},
          "output_type": "execute_result",
          "execution_count": 268
        }
      ],
      "source": "# calculate occurrence\nindexOfOpponentDice, occurrenceOfOpponentDice \u003d numpy.unique(opponentDice, return_counts\u003dTrue)\n\noccurrenceOfOpponentDice \u003d numpy.concatenate((numpy.array([0,0,0,0]),\n                                               occurrenceOfOpponentDice))\noccurrenceOfOpponentDice",
      "metadata": {
        "pycharm": {
          "metadata": false,
          "name": "#%%\n",
          "is_executing": false
        }
      }
    },
    {
      "cell_type": "code",
      "execution_count": 269,
      "outputs": [
        {
          "data": {
            "text/plain": "0.0"
          },
          "metadata": {},
          "output_type": "execute_result",
          "execution_count": 269
        }
      ],
      "source": "# test w/ chi-square test\n# use below if you dont know expected\n# chi2_stat, pvalue, dof, ex \u003d stats.chi2_contingency(occurrenceOfOpponentDice)\n\n# use below if you know the expected\nstatistic, pvalue \u003d stats.chisquare(occurrenceOfOpponentDice, \n                                    occurrenceOfExpectedDice)\n\npvalue\n",
      "metadata": {
        "pycharm": {
          "metadata": false,
          "name": "#%%\n",
          "is_executing": false
        }
      }
    }
  ],
  "metadata": {
    "language_info": {
      "codemirror_mode": {
        "name": "ipython",
        "version": 2
      },
      "file_extension": ".py",
      "mimetype": "text/x-python",
      "name": "python",
      "nbconvert_exporter": "python",
      "pygments_lexer": "ipython2",
      "version": "2.7.6"
    },
    "kernelspec": {
      "name": "python3",
      "language": "python",
      "display_name": "Python 3"
    }
  },
  "nbformat": 4,
  "nbformat_minor": 0
}