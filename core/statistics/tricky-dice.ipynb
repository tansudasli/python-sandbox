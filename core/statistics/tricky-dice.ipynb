{
  "cells": [
    {
      "cell_type": "markdown",
      "metadata": {
        "collapsed": true,
        "pycharm": {
          "name": "#%% md\n"
        }
      },
      "source": "Test chi-square test for 2 rolling dices and understand the trick.\n"
    },
    {
      "cell_type": "code",
      "execution_count": 50,
      "outputs": [],
      "source": "from numpy import random\nimport numpy\nfrom scipy import stats\n",
      "metadata": {
        "pycharm": {
          "metadata": false,
          "name": "#%%\n",
          "is_executing": false
        }
      }
    },
    {
      "cell_type": "code",
      "execution_count": 132,
      "outputs": [
        {
          "data": {
            "text/plain": "array([[6, 6, 4, ..., 1, 1, 6],\n       [3, 2, 5, ..., 2, 5, 1],\n       [3, 1, 1, ..., 3, 3, 6],\n       [2, 3, 6, ..., 6, 1, 2],\n       [4, 3, 2, ..., 1, 6, 4],\n       [2, 4, 3, ..., 1, 5, 3]])"
          },
          "metadata": {},
          "output_type": "execute_result",
          "execution_count": 132
        }
      ],
      "source": "# roll 6 times\nexpectedDice \u003d random.randint(1, 7, size\u003d(6,200))\nexpectedDice\n",
      "metadata": {
        "pycharm": {
          "metadata": false,
          "name": "#%%\n",
          "is_executing": false
        }
      }
    },
    {
      "cell_type": "code",
      "execution_count": 125,
      "outputs": [
        {
          "data": {
            "text/plain": "array([[5, 5, 5, 5, 6, 6, 6, 5, 5, 6, 6, 5, 5, 6, 6, 6, 6, 5, 6, 5],\n       [6, 5, 6, 6, 5, 6, 5, 6, 5, 5, 5, 6, 5, 5, 6, 6, 5, 5, 6, 6],\n       [6, 5, 6, 6, 6, 5, 6, 5, 5, 5, 6, 5, 6, 6, 6, 5, 6, 5, 5, 5],\n       [6, 6, 5, 6, 6, 5, 6, 5, 6, 5, 5, 5, 5, 5, 6, 5, 5, 5, 6, 5],\n       [5, 5, 5, 5, 5, 6, 5, 5, 5, 5, 5, 6, 6, 6, 6, 5, 6, 5, 6, 5],\n       [5, 6, 5, 5, 6, 6, 5, 5, 6, 6, 5, 5, 6, 6, 5, 6, 5, 6, 5, 6]])"
          },
          "metadata": {},
          "output_type": "execute_result",
          "execution_count": 125
        }
      ],
      "source": "opponentDice \u003d random.randint(5, 7, size\u003d(6,20))\nopponentDice\n",
      "metadata": {
        "pycharm": {
          "metadata": false,
          "name": "#%%\n",
          "is_executing": false
        }
      }
    },
    {
      "cell_type": "code",
      "execution_count": 128,
      "outputs": [
        {
          "data": {
            "text/plain": "array([205, 220, 189, 202, 202, 182])"
          },
          "metadata": {},
          "output_type": "execute_result",
          "execution_count": 128
        }
      ],
      "source": "# calculate occurrence\nindexOfExpectedDice, occurrenceOfExpectedDice \u003d numpy.unique(expectedDice, return_counts\u003dTrue)\noccurrenceOfExpectedDice\n",
      "metadata": {
        "pycharm": {
          "metadata": false,
          "name": "#%%\n",
          "is_executing": false
        }
      }
    },
    {
      "cell_type": "code",
      "execution_count": 129,
      "outputs": [
        {
          "data": {
            "text/plain": "array([65, 55])"
          },
          "metadata": {},
          "output_type": "execute_result",
          "execution_count": 129
        }
      ],
      "source": "# calculate occurrence\nindexOfOpponentDice, occurrenceOfOpponentDice \u003d numpy.unique(opponentDice, return_counts\u003dTrue)\noccurrenceOfOpponentDice\n",
      "metadata": {
        "pycharm": {
          "metadata": false,
          "name": "#%%\n",
          "is_executing": false
        }
      }
    },
    {
      "cell_type": "code",
      "execution_count": 130,
      "outputs": [
        {
          "data": {
            "text/plain": "(4.706453431613377,\n 1.0,\n 95,\n array([[5.54198473, 5.3740458 , 5.3740458 , 5.54198473, 5.70992366,\n         5.70992366, 5.54198473, 5.20610687, 5.3740458 , 5.3740458 ,\n         5.3740458 , 5.3740458 , 5.54198473, 5.70992366, 5.8778626 ,\n         5.54198473, 5.54198473, 5.20610687, 5.70992366, 5.3740458 ],\n        [5.54198473, 5.3740458 , 5.3740458 , 5.54198473, 5.70992366,\n         5.70992366, 5.54198473, 5.20610687, 5.3740458 , 5.3740458 ,\n         5.3740458 , 5.3740458 , 5.54198473, 5.70992366, 5.8778626 ,\n         5.54198473, 5.54198473, 5.20610687, 5.70992366, 5.3740458 ],\n        [5.54198473, 5.3740458 , 5.3740458 , 5.54198473, 5.70992366,\n         5.70992366, 5.54198473, 5.20610687, 5.3740458 , 5.3740458 ,\n         5.3740458 , 5.3740458 , 5.54198473, 5.70992366, 5.8778626 ,\n         5.54198473, 5.54198473, 5.20610687, 5.70992366, 5.3740458 ],\n        [5.44122137, 5.27633588, 5.27633588, 5.44122137, 5.60610687,\n         5.60610687, 5.44122137, 5.11145038, 5.27633588, 5.27633588,\n         5.27633588, 5.27633588, 5.44122137, 5.60610687, 5.77099237,\n         5.44122137, 5.44122137, 5.11145038, 5.60610687, 5.27633588],\n        [5.39083969, 5.22748092, 5.22748092, 5.39083969, 5.55419847,\n         5.55419847, 5.39083969, 5.06412214, 5.22748092, 5.22748092,\n         5.22748092, 5.22748092, 5.39083969, 5.55419847, 5.71755725,\n         5.39083969, 5.39083969, 5.06412214, 5.55419847, 5.22748092],\n        [5.54198473, 5.3740458 , 5.3740458 , 5.54198473, 5.70992366,\n         5.70992366, 5.54198473, 5.20610687, 5.3740458 , 5.3740458 ,\n         5.3740458 , 5.3740458 , 5.54198473, 5.70992366, 5.8778626 ,\n         5.54198473, 5.54198473, 5.20610687, 5.70992366, 5.3740458 ]]))"
          },
          "metadata": {},
          "output_type": "execute_result",
          "execution_count": 130
        }
      ],
      "source": "# test w/ chi-square test\n# use below if you dont know expected\n#chi2_stat, pvalue, dof, ex \u003d stats.chi2_contingency(opponentDice, expectedDice)\n\n# use below if you know the expected\nstats.chi2_contingency(opponentDice, expectedDice)",
      "metadata": {
        "pycharm": {
          "metadata": false,
          "name": "#%%\n",
          "is_executing": false
        }
      }
    },
    {
      "cell_type": "code",
      "execution_count": 131,
      "outputs": [
        {
          "name": "stdout",
          "text": [
            "dice is tricky, pvalue\u003d1.0\n%1.0 chance to see opponentDice results :)\n"
          ],
          "output_type": "stream"
        }
      ],
      "source": "## evaluate the results\nif pvalue \u003e 0.05:\n    print(\"dice is tricky, pvalue\u003d\" + str(pvalue))\n    print(\"%{} chance to see opponentDice results :)\".format(pvalue))\nelse:\n    print(\"dice is fair, pvalue\u003d\" + str(pvalue))\n\n",
      "metadata": {
        "pycharm": {
          "metadata": false,
          "name": "#%%\n",
          "is_executing": false
        }
      }
    }
  ],
  "metadata": {
    "language_info": {
      "codemirror_mode": {
        "name": "ipython",
        "version": 2
      },
      "file_extension": ".py",
      "mimetype": "text/x-python",
      "name": "python",
      "nbconvert_exporter": "python",
      "pygments_lexer": "ipython2",
      "version": "2.7.6"
    },
    "kernelspec": {
      "name": "python3",
      "language": "python",
      "display_name": "Python 3"
    }
  },
  "nbformat": 4,
  "nbformat_minor": 0
}