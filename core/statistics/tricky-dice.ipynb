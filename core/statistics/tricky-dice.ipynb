{
  "cells": [
    {
      "cell_type": "markdown",
      "metadata": {
        "collapsed": true,
        "pycharm": {
          "name": "#%% md\n"
        }
      },
      "source": "Test chi-square test for 2 rolling dices and understand the trick.\n"
    },
    {
      "cell_type": "code",
      "execution_count": 50,
      "outputs": [],
      "source": "from numpy import random\nimport numpy\nfrom scipy import stats\n",
      "metadata": {
        "pycharm": {
          "metadata": false,
          "name": "#%%\n",
          "is_executing": false
        }
      }
    },
    {
      "cell_type": "code",
      "execution_count": 51,
      "outputs": [
        {
          "data": {
            "text/plain": "array([3, 1, 4, 6, 1, 5, 2, 2, 2, 6, 5, 4, 6, 4, 1, 6, 4, 6, 1, 6])"
          },
          "metadata": {},
          "output_type": "execute_result",
          "execution_count": 51
        }
      ],
      "source": "expectedDice \u003d random.randint(1, 7, size\u003d20)\nexpectedDice\n",
      "metadata": {
        "pycharm": {
          "metadata": false,
          "name": "#%%\n",
          "is_executing": false
        }
      }
    },
    {
      "cell_type": "code",
      "execution_count": 52,
      "outputs": [
        {
          "data": {
            "text/plain": "array([5, 6, 6, 5, 6, 6, 6, 6, 6, 5, 5, 6, 6, 5, 5, 6, 5, 6, 5, 5])"
          },
          "metadata": {},
          "output_type": "execute_result",
          "execution_count": 52
        }
      ],
      "source": "opponentDice \u003d random.randint(5, 7, size\u003d20)\nopponentDice\n",
      "metadata": {
        "pycharm": {
          "metadata": false,
          "name": "#%%\n",
          "is_executing": false
        }
      }
    },
    {
      "cell_type": "code",
      "execution_count": 53,
      "outputs": [
        {
          "data": {
            "text/plain": "array([4, 3, 1, 4, 2, 6])"
          },
          "metadata": {},
          "output_type": "execute_result",
          "execution_count": 53
        }
      ],
      "source": "# calculate occurrence\nindexOfExpectedDice, occurrenceOfExpectedDice \u003d numpy.unique(expectedDice, return_counts\u003dTrue)\noccurrenceOfExpectedDice\n",
      "metadata": {
        "pycharm": {
          "metadata": false,
          "name": "#%%\n",
          "is_executing": false
        }
      }
    },
    {
      "cell_type": "code",
      "execution_count": 54,
      "outputs": [
        {
          "data": {
            "text/plain": "array([ 9, 11])"
          },
          "metadata": {},
          "output_type": "execute_result",
          "execution_count": 54
        }
      ],
      "source": "# calculate occurrence\nindexOfOpponentDice, occurrenceOfOpponentDice \u003d numpy.unique(opponentDice, return_counts\u003dTrue)\noccurrenceOfOpponentDice\n",
      "metadata": {
        "pycharm": {
          "metadata": false,
          "name": "#%%\n",
          "is_executing": false
        }
      }
    },
    {
      "cell_type": "code",
      "execution_count": 55,
      "outputs": [],
      "source": "# test w/ chi-square test\nstatistic, pvalue \u003d stats.chisquare(opponentDice, expectedDice )\n",
      "metadata": {
        "pycharm": {
          "metadata": false,
          "name": "#%%\n",
          "is_executing": false
        }
      }
    },
    {
      "cell_type": "code",
      "execution_count": 56,
      "outputs": [
        {
          "name": "stdout",
          "text": [
            "dice is tricky\n"
          ],
          "output_type": "stream"
        }
      ],
      "source": "## evaluate the results\nif pvalue \u003c 0.5:\n    print(\"dice is tricky\")\nelse:\n    print(\"dice is fair\")\n\n",
      "metadata": {
        "pycharm": {
          "metadata": false,
          "name": "#%%\n",
          "is_executing": false
        }
      }
    }
  ],
  "metadata": {
    "language_info": {
      "codemirror_mode": {
        "name": "ipython",
        "version": 2
      },
      "file_extension": ".py",
      "mimetype": "text/x-python",
      "name": "python",
      "nbconvert_exporter": "python",
      "pygments_lexer": "ipython2",
      "version": "2.7.6"
    },
    "kernelspec": {
      "name": "python3",
      "language": "python",
      "display_name": "Python 3"
    }
  },
  "nbformat": 4,
  "nbformat_minor": 0
}