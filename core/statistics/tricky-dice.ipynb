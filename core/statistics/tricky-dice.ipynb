{
  "cells": [
    {
      "cell_type": "markdown",
      "metadata": {
        "collapsed": true,
        "pycharm": {
          "name": "#%% md\n"
        }
      },
      "source": "Test chi-square test for 2 rolling dices and understand the trick.\n"
    },
    {
      "cell_type": "code",
      "execution_count": 202,
      "outputs": [],
      "source": "from numpy import random\nimport numpy\nfrom scipy import stats\n",
      "metadata": {
        "pycharm": {
          "metadata": false,
          "name": "#%%\n",
          "is_executing": false
        }
      }
    },
    {
      "cell_type": "code",
      "execution_count": 237,
      "outputs": [
        {
          "data": {
            "text/plain": "array([[6, 6, 6, ..., 3, 1, 2],\n       [6, 6, 5, ..., 1, 1, 3],\n       [6, 6, 4, ..., 3, 1, 1],\n       [4, 6, 5, ..., 6, 4, 3],\n       [2, 2, 5, ..., 1, 5, 4],\n       [5, 4, 1, ..., 2, 4, 3]])"
          },
          "metadata": {},
          "output_type": "execute_result",
          "execution_count": 237
        }
      ],
      "source": "# roll 6 times\nexpectedDice \u003d random.randint(1, 7, size\u003d(6,200))\nexpectedDice\n",
      "metadata": {
        "pycharm": {
          "metadata": false,
          "name": "#%%\n",
          "is_executing": false
        }
      }
    },
    {
      "cell_type": "code",
      "execution_count": 238,
      "outputs": [
        {
          "data": {
            "text/plain": "array([[5, 5, 6, ..., 5, 6, 6],\n       [5, 6, 6, ..., 5, 6, 5],\n       [6, 6, 5, ..., 6, 6, 5],\n       [6, 5, 5, ..., 6, 6, 6],\n       [6, 5, 5, ..., 5, 6, 5],\n       [5, 6, 5, ..., 6, 6, 6]])"
          },
          "metadata": {},
          "output_type": "execute_result",
          "execution_count": 238
        }
      ],
      "source": "opponentDice \u003d random.randint(5, 7, size\u003d(6,200))\nopponentDice\n",
      "metadata": {
        "pycharm": {
          "metadata": false,
          "name": "#%%\n",
          "is_executing": false
        }
      }
    },
    {
      "cell_type": "code",
      "execution_count": 239,
      "outputs": [
        {
          "data": {
            "text/plain": "array([196, 208, 181, 210, 181, 224])"
          },
          "metadata": {},
          "output_type": "execute_result",
          "execution_count": 239
        }
      ],
      "source": "# calculate occurrence\nindexOfExpectedDice, occurrenceOfExpectedDice \u003d numpy.unique(expectedDice, return_counts\u003dTrue)\noccurrenceOfExpectedDice\n",
      "metadata": {
        "pycharm": {
          "metadata": false,
          "name": "#%%\n",
          "is_executing": false
        }
      }
    },
    {
      "cell_type": "code",
      "execution_count": 250,
      "outputs": [
        {
          "data": {
            "text/plain": "array([  0,   0,   0,   0, 617, 583])"
          },
          "metadata": {},
          "output_type": "execute_result",
          "execution_count": 250
        }
      ],
      "source": "# calculate occurrence\nindexOfOpponentDice, occurrenceOfOpponentDice \u003d numpy.unique(opponentDice, return_counts\u003dTrue)\n\noccurrenceOfOpponentDice \u003d numpy.concatenate((numpy.array([0,0,0,0]),\n                                               occurrenceOfOpponentDice))\noccurrenceOfOpponentDice",
      "metadata": {
        "pycharm": {
          "metadata": false,
          "name": "#%%\n",
          "is_executing": false
        }
      }
    },
    {
      "cell_type": "code",
      "execution_count": 252,
      "outputs": [
        {
          "data": {
            "text/plain": "0.0"
          },
          "metadata": {},
          "output_type": "execute_result",
          "execution_count": 252
        }
      ],
      "source": "# test w/ chi-square test\n# use below if you dont know expected\n# chi2_stat, pvalue, dof, ex \u003d stats.chi2_contingency(occurrenceOfOpponentDice)\n\n# use below if you know the expected\nstatistic, pvalue \u003d stats.chisquare(occurrenceOfOpponentDice, \n                                    occurrenceOfExpectedDice)\n\npvalue\n",
      "metadata": {
        "pycharm": {
          "metadata": false,
          "name": "#%%\n",
          "is_executing": false
        }
      }
    }
  ],
  "metadata": {
    "language_info": {
      "codemirror_mode": {
        "name": "ipython",
        "version": 2
      },
      "file_extension": ".py",
      "mimetype": "text/x-python",
      "name": "python",
      "nbconvert_exporter": "python",
      "pygments_lexer": "ipython2",
      "version": "2.7.6"
    },
    "kernelspec": {
      "name": "python3",
      "language": "python",
      "display_name": "Python 3"
    }
  },
  "nbformat": 4,
  "nbformat_minor": 0
}