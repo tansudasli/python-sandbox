{
 "cells": [
  {
   "cell_type": "code",
   "execution_count": 2,
   "metadata": {},
   "outputs": [],
   "source": [
    "import numpy as np\n",
    "import matplotlib.pyplot as plt"
   ]
  },
  {
   "cell_type": "code",
   "execution_count": 6,
   "metadata": {},
   "outputs": [
    {
     "data": {
      "text/plain": [
       "(array([8.501065  , 4.09554063, 9.64712446, 7.05913152, 0.32095569,\n",
       "        5.52644715, 5.0448846 , 5.5055102 , 9.79481595, 6.36429421,\n",
       "        3.88164466, 7.09814266, 0.45867332, 1.81984358, 4.57767933,\n",
       "        1.87427063, 1.14179453, 2.14556412, 3.84644628, 6.44027124,\n",
       "        4.37417545, 5.00886299, 6.16743848, 2.02189109, 0.29170989,\n",
       "        7.07251816, 4.0335537 , 2.46271212, 2.9449494 , 6.09012024,\n",
       "        6.23394229, 6.99374403, 8.4654729 , 0.54559031, 5.81932662,\n",
       "        7.16216998, 5.49722201, 2.9413655 , 6.31658801, 3.89113808,\n",
       "        6.8421118 , 8.89906263, 1.09997068, 6.2263588 , 5.94652276,\n",
       "        3.6534102 , 0.06563118, 0.20528767, 8.50555714, 7.53799294]),\n",
       " array([0.93969621, 0.76557023, 6.79802502, 9.58106927, 3.2411204 ,\n",
       "        2.05849314, 3.01217189, 4.30027873, 4.62974595, 2.09999098,\n",
       "        6.883478  , 2.45976763, 1.4471144 , 5.74434068, 8.41938709,\n",
       "        7.15376415, 0.33416814, 0.55189674, 9.47348248, 2.92543919,\n",
       "        9.58942172, 3.78750597, 3.47546093, 9.01895178, 3.53045569,\n",
       "        4.92483517, 1.93971992, 4.14370242, 9.53894351, 2.21346621,\n",
       "        1.51791479, 9.50652239, 8.22702273, 4.16546954, 8.72205712,\n",
       "        0.03711642, 2.04251478, 7.20067532, 6.02205149, 9.06481695,\n",
       "        8.75200454, 6.41056882, 6.13073408, 8.98231615, 8.07565903,\n",
       "        3.34084142, 0.56233267, 9.93089569, 7.21397231, 1.36962642]))"
      ]
     },
     "execution_count": 6,
     "metadata": {},
     "output_type": "execute_result"
    }
   ],
   "source": [
    "x = np.random.uniform(low=0, high=10, size=50)\n",
    "y = np.random.uniform(low=0, high=10, size=50)\n",
    "x, y"
   ]
  },
  {
   "cell_type": "code",
   "execution_count": 20,
   "metadata": {},
   "outputs": [
    {
     "data": {
      "image/png": "[encoded data removed]",
      "text/plain": [
       "<Figure size 432x288 with 1 Axes>"
      ]
     },
     "metadata": {
      "needs_background": "light"
     },
     "output_type": "display_data"
    }
   ],
   "source": [
    "fig, ax = plt.subplots()\n",
    "ax.margins(x=0.0, y=0)\n",
    "ax.axis('equal')\n",
    "ax.grid()\n",
    "\n",
    "plt.scatter(x, y)\n",
    "plt.show()"
   ]
  }
 ],
 "metadata": {
  "kernelspec": {
   "display_name": "Python 3",
   "language": "python",
   "name": "python3"
  },
  "language_info": {
   "codemirror_mode": {
    "name": "ipython",
    "version": 3
   },
   "file_extension": ".py",
   "mimetype": "text/x-python",
   "name": "python",
   "nbconvert_exporter": "python",
   "pygments_lexer": "ipython3",
   "version": "3.7.1"
  }
 },
 "nbformat": 4,
 "nbformat_minor": 1
}
