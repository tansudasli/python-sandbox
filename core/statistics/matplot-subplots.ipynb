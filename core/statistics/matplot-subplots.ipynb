{
 "cells": [
  {
   "cell_type": "code",
   "execution_count": 2,
   "metadata": {},
   "outputs": [],
   "source": [
    "import numpy as np\n",
    "import matplotlib.pyplot as plt"
   ]
  },
  {
   "cell_type": "code",
   "execution_count": 21,
   "metadata": {},
   "outputs": [
    {
     "data": {
      "text/plain": [
       "array([7.19263729, 4.99500962, 7.72093357, 5.38961788, 5.09400553,\n",
       "       5.53430824, 0.40948366, 5.16492005, 1.15768936, 9.1313642 ,\n",
       "       9.77010413, 0.36872551, 9.83609436, 6.91543634, 1.12721624,\n",
       "       0.1009769 , 3.65567693, 7.20158388, 3.43042673, 1.30742792,\n",
       "       8.17027803, 4.95130026, 0.67056965, 5.60590301, 4.71373421,\n",
       "       2.38566635, 0.38640843, 9.7212895 , 9.41217403, 2.53967948,\n",
       "       3.72641726, 7.10282841, 0.61278181, 5.43146241, 8.95312478,\n",
       "       7.58575006, 5.14898634, 0.81586563, 4.90799988, 6.46358708,\n",
       "       5.40888167, 5.21968913, 7.28726658, 5.64653505, 3.13533411,\n",
       "       5.19394391, 3.59011732, 8.83383793, 3.57817356, 6.54376397])"
      ]
     },
     "execution_count": 21,
     "metadata": {},
     "output_type": "execute_result"
    }
   ],
   "source": [
    "x = np.random.uniform(low=0, high=10, size=50)\n",
    "y = np.random.uniform(low=0, high=10, size=50)\n",
    "x"
   ]
  },
  {
   "cell_type": "code",
   "execution_count": 20,
   "metadata": {},
   "outputs": [
    {
     "data": {
      "image/png": "[encoded data removed]",
      "text/plain": [
       "<Figure size 432x288 with 1 Axes>"
      ]
     },
     "metadata": {
      "needs_background": "light"
     },
     "output_type": "display_data"
    }
   ],
   "source": [
    "fig, ax = plt.subplots()\n",
    "ax.margins(x=0.0, y=0)\n",
    "ax.axis('equal')\n",
    "ax.grid()\n",
    "\n",
    "plt.scatter(x, y)\n",
    "plt.show()"
   ]
  }
 ],
 "metadata": {
  "kernelspec": {
   "display_name": "Python 3",
   "language": "python",
   "name": "python3"
  },
  "language_info": {
   "codemirror_mode": {
    "name": "ipython",
    "version": 3
   },
   "file_extension": ".py",
   "mimetype": "text/x-python",
   "name": "python",
   "nbconvert_exporter": "python",
   "pygments_lexer": "ipython3",
   "version": "3.7.1"
  }
 },
 "nbformat": 4,
 "nbformat_minor": 1
}
