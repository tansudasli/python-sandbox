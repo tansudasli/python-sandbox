{
  "cells": [
    {
      "cell_type": "code",
      "execution_count": 22,
      "metadata": {
        "collapsed": true,
        "pycharm": {
          "is_executing": false
        }
      },
      "outputs": [
        {
          "data": {
            "text/plain": "[1, 3, 5, 7, 9]"
          },
          "metadata": {},
          "output_type": "execute_result",
          "execution_count": 22
        }
      ],
      "source": "numbers \u003d [1, 3, 4, 5, 7, 8, 9, 10]\n\nz \u003d filter(lambda x: x % 2 !\u003d 0, numbers)\nlist(z)\n"
    },
    {
      "cell_type": "code",
      "execution_count": 11,
      "outputs": [
        {
          "data": {
            "text/plain": "[True, True, False, True, True, False, True, False]"
          },
          "metadata": {},
          "output_type": "execute_result",
          "execution_count": 11
        }
      ],
      "source": "k \u003d map(lambda x: x % 2 !\u003d 0, numbers)\nlist(k)\n",
      "metadata": {
        "pycharm": {
          "metadata": false,
          "name": "#%%\n",
          "is_executing": false
        }
      }
    },
    {
      "cell_type": "code",
      "execution_count": 16,
      "outputs": [
        {
          "data": {
            "text/plain": "[1, 9, 25, 49, 81]"
          },
          "metadata": {},
          "output_type": "execute_result",
          "execution_count": 16
        }
      ],
      "source": "\nlist(map(lambda x: x ** 2, \\\n    filter(lambda y: y % 2 !\u003d 0, \\\n           numbers)))\n",
      "metadata": {
        "pycharm": {
          "metadata": false,
          "name": "#%%\n",
          "is_executing": false
        }
      }
    },
    {
      "cell_type": "code",
      "execution_count": 17,
      "outputs": [
        {
          "data": {
            "text/plain": "[1, 9, 25, 49, 81]"
          },
          "metadata": {},
          "output_type": "execute_result",
          "execution_count": 17
        }
      ],
      "source": "# or below \n\n[x ** 2 for x in numbers if x % 2 !\u003d 0]\n",
      "metadata": {
        "pycharm": {
          "metadata": false,
          "name": "#%%\n",
          "is_executing": false
        }
      }
    },
    {
      "cell_type": "code",
      "execution_count": 24,
      "outputs": [
        {
          "data": {
            "text/plain": "165"
          },
          "metadata": {},
          "output_type": "execute_result",
          "execution_count": 24
        }
      ],
      "source": "# reduced\nfrom functools import reduce\n\nreduce(lambda x,y: x + y, \\\n             list(map(lambda x: x ** 2, \\\n                 filter(lambda y: y % 2 !\u003d 0, \\\n                        numbers))))\n\n# look for more detail https://docs.python.org/3/library/functools.html\n",
      "metadata": {
        "pycharm": {
          "metadata": false,
          "name": "#%%\n",
          "is_executing": false
        }
      }
    }
  ],
  "metadata": {
    "language_info": {
      "codemirror_mode": {
        "name": "ipython",
        "version": 2
      },
      "file_extension": ".py",
      "mimetype": "text/x-python",
      "name": "python",
      "nbconvert_exporter": "python",
      "pygments_lexer": "ipython2",
      "version": "2.7.6"
    },
    "kernelspec": {
      "name": "python3",
      "language": "python",
      "display_name": "Python 3"
    }
  },
  "nbformat": 4,
  "nbformat_minor": 0
}