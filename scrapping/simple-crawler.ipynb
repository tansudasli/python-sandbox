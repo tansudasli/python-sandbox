{
 "cells": [
  {
   "cell_type": "code",
   "execution_count": 29,
   "metadata": {
    "pycharm": {
     "is_executing": false
    }
   },
   "outputs": [],
   "source": [
    "import requests\n",
    "from bs4 import BeautifulSoup as bs\n",
    "import json"
   ]
  },
  {
   "cell_type": "code",
   "execution_count": 30,
   "metadata": {
    "pycharm": {
     "is_executing": false,
     "metadata": false,
     "name": "#%%\n"
    }
   },
   "outputs": [],
   "source": [
    "url = [\"https://assets.digitalocean.com/articles/eng_python/beautiful-soup/mockturtle.html\"]\n"
   ]
  },
  {
   "cell_type": "code",
   "execution_count": 32,
   "metadata": {
    "pycharm": {
     "is_executing": false,
     "metadata": false,
     "name": "#%%\n"
    }
   },
   "outputs": [
    {
     "name": "stdout",
     "output_type": "stream",
     "text": [
      "{'1': 'Beautiful Soup, so rich and green,\\n  Waiting in a hot tureen!\\n  Who for such dainties would not stoop?\\n  Soup of the evening, beautiful Soup!\\n  Soup of the evening, beautiful Soup!', '2': 'Beau--ootiful Soo--oop!\\n  Beau--ootiful Soo--oop!\\n  Soo--oop of the e--e--evening,\\n  Beautiful, beautiful Soup!', '3': 'Beautiful Soup! Who cares for fish,\\n  Game or any other dish?\\n  Who would not give all else for two\\n  Pennyworth only of Beautiful Soup?\\n  Pennyworth only of beautiful Soup?', '4': 'Beau--ootiful Soo--oop!\\n  Beau--ootiful Soo--oop!\\n  Soo--oop of the e--e--evening,\\n  Beautiful, beauti--FUL SOUP!'}\n"
     ]
    }
   ],
   "source": [
    "for link in url:\n",
    "    r = requests.get(link)\n",
    "    \n",
    "    if r.status_code != 200:\n",
    "        print(\"url access error\")\n",
    "        continue\n",
    "        \n",
    "    page = r.text\n",
    "    soup = bs(page, \"html.parser\")\n",
    "#     print(soup)\n",
    "    lyrics = soup.find_all(\"p\")\n",
    "#     lyrics = soup.find_all(\"p\", {\"class\" : \"verse\"})\n",
    "    lyricsDict = {}\n",
    "    \n",
    "    for stanza in lyrics:\n",
    "        lyricsDict[str(lyrics.index(stanza) + 1)] = stanza.text\n",
    "    \n",
    "print(lyricsDict)\n",
    "\n",
    "json.dump(lyricsDict, open(\"lyricsDict.json\", \"w\"))\n",
    "    "
   ]
  }
 ],
 "metadata": {
  "kernelspec": {
   "display_name": "Python 3",
   "language": "python",
   "name": "python3"
  },
  "language_info": {
   "codemirror_mode": {
    "name": "ipython",
    "version": 3
   },
   "file_extension": ".py",
   "mimetype": "text/x-python",
   "name": "python",
   "nbconvert_exporter": "python",
   "pygments_lexer": "ipython3",
   "version": "3.7.1"
  }
 },
 "nbformat": 4,
 "nbformat_minor": 1
}
