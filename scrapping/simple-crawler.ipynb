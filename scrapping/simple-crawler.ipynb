{
 "cells": [
  {
   "cell_type": "code",
   "execution_count": 18,
   "metadata": {
    "pycharm": {
     "is_executing": false
    }
   },
   "outputs": [],
   "source": [
    "import requests\n",
    "from bs4 import BeautifulSoup as bs"
   ]
  },
  {
   "cell_type": "code",
   "execution_count": 19,
   "metadata": {
    "pycharm": {
     "is_executing": false,
     "metadata": false,
     "name": "#%%\n"
    }
   },
   "outputs": [],
   "source": [
    "url = [\"https://assets.digitalocean.com/articles/eng_python/beautiful-soup/mockturtle.html\"]\n"
   ]
  },
  {
   "cell_type": "code",
   "execution_count": 20,
   "metadata": {
    "pycharm": {
     "metadata": false,
     "name": "#%%\n"
    }
   },
   "outputs": [
    {
     "name": "stdout",
     "output_type": "stream",
     "text": [
      "<!DOCTYPE html PUBLIC \"-//W3C//DTD XHTML 1.0 Strict//EN\"\n",
      "    \"http://www.w3.org/TR/xhtml1/DTD/xhtml1-strict.dtd\">\n",
      "\n",
      "<html lang=\"en-US\" xml:lang=\"en-US\" xmlns=\"http://www.w3.org/1999/xhtml\">\n",
      "<head>\n",
      "<meta content=\"text/html; charset=utf-8\" http-equiv=\"content-type\"/>\n",
      "<title>Turtle Soup</title>\n",
      "</head>\n",
      "<body>\n",
      "<h1>Turtle Soup</h1>\n",
      "<p class=\"verse\" id=\"first\">Beautiful Soup, so rich and green,<br/>\n",
      "  Waiting in a hot tureen!<br/>\n",
      "  Who for such dainties would not stoop?<br/>\n",
      "  Soup of the evening, beautiful Soup!<br/>\n",
      "  Soup of the evening, beautiful Soup!<br/></p>\n",
      "<p class=\"chorus\" id=\"second\">Beau--ootiful Soo--oop!<br/>\n",
      "  Beau--ootiful Soo--oop!<br/>\n",
      "  Soo--oop of the e--e--evening,<br/>\n",
      "  Beautiful, beautiful Soup!<br/></p>\n",
      "<p class=\"verse\" id=\"third\">Beautiful Soup! Who cares for fish,<br/>\n",
      "  Game or any other dish?<br/>\n",
      "  Who would not give all else for two<br/>\n",
      "  Pennyworth only of Beautiful Soup?<br/>\n",
      "  Pennyworth only of beautiful Soup?<br/></p>\n",
      "<p class=\"chorus\" id=\"fourth\">Beau--ootiful Soo--oop!<br/>\n",
      "  Beau--ootiful Soo--oop!<br/>\n",
      "  Soo--oop of the e--e--evening,<br/>\n",
      "  Beautiful, beauti--FUL SOUP!<br/></p>\n",
      "</body>\n",
      "</html>\n",
      "\n"
     ]
    }
   ],
   "source": [
    "for link in url:\n",
    "    r = requests.get(link)\n",
    "    \n",
    "    if r.status_code != 200:\n",
    "        print(\"url access error\")\n",
    "        continue\n",
    "        \n",
    "    page = r.text\n",
    "    soup = bs(page, \"html.parser\")\n",
    "    print(soup)\n",
    "    "
   ]
  }
 ],
 "metadata": {
  "kernelspec": {
   "display_name": "Python 3",
   "language": "python",
   "name": "python3"
  },
  "language_info": {
   "codemirror_mode": {
    "name": "ipython",
    "version": 3
   },
   "file_extension": ".py",
   "mimetype": "text/x-python",
   "name": "python",
   "nbconvert_exporter": "python",
   "pygments_lexer": "ipython3",
   "version": "3.7.1"
  }
 },
 "nbformat": 4,
 "nbformat_minor": 1
}
