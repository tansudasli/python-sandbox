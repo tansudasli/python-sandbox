{
 "cells": [
  {
   "cell_type": "code",
   "execution_count": 7,
   "metadata": {
    "pycharm": {
     "is_executing": false
    }
   },
   "outputs": [],
   "source": [
    "from nltk.sentiment.vader import SentimentIntensityAnalyzer as SIA\n",
    "from nltk.corpus import gutenberg\n",
    "\n",
    "from sklearn.feature_extraction.text import TfidfTransformer\n",
    "from sklearn.preprocessing import normalize\n"
   ]
  },
  {
   "cell_type": "code",
   "execution_count": 34,
   "metadata": {
    "pycharm": {
     "is_executing": false,
     "metadata": false,
     "name": "#%%\n"
    }
   },
   "outputs": [
    {
     "data": {
      "text/plain": [
       "['[The Tragedie of Macbeth by William Shakespeare 1603]',\n",
       " 'Actus Primus. Scoena Prima.']"
      ]
     },
     "execution_count": 34,
     "metadata": {},
     "output_type": "execute_result"
    }
   ],
   "source": [
    "def remove_noise(text):\n",
    "   \n",
    "    noises = [\"is\", \"a\", \"this\", \"When\", \"We\", \",\", \"thou\", \"the\", \"The\", \"me\", \"And\"]\n",
    "    words = text.split()\n",
    "\n",
    "    noise_free_words = [word for word in words if word not in noises]\n",
    "\n",
    "\n",
    "    text = \" \".join(noise_free_words)\n",
    "        \n",
    "    return text\n",
    "\n",
    "# x = ['[The Tragedie of Macbeth by William Shakespeare 1603]', '\\nActus Primus. Scoena Prima.']\n",
    "# y = [remove_noise(w) for w in x]\n",
    "# y"
   ]
  },
  {
   "cell_type": "code",
   "execution_count": 44,
   "metadata": {
    "pycharm": {
     "is_executing": false,
     "metadata": false,
     "name": "#%%\n"
    }
   },
   "outputs": [
    {
     "name": "stdout",
     "output_type": "stream",
     "text": [
      "['[The Tragedie of Macbeth by William Shakespeare 1603]', '', '', 'Actus Primus. Scoena Prima.', '', 'Thunder and Lightning. Enter three Witches.', '', '  1. When shall we three meet againe?', 'In Thunder, Lightning, or in Raine?', \"  2. When the Hurley-burley's done,\", \"When the Battaile's lost, and wonne\", '', '   3. That will be ere the set of Sunne', '', '   1. Where the place?', '  2. Vpon the Heath', '', '   3. There to meet with Macbeth', '', '   1. I come, Gray-Malkin']\n"
     ]
    },
    {
     "data": {
      "text/plain": [
       "(None, 3287)"
      ]
     },
     "execution_count": 44,
     "metadata": {},
     "output_type": "execute_result"
    }
   ],
   "source": [
    "macbeth = gutenberg.raw(\"shakespeare-macbeth.txt\")\n",
    "macbeth = macbeth.split(\"\\n\")\n",
    "\n",
    "print(macbeth[0:20]), len(macbeth)\n",
    "# print(macbeth)"
   ]
  },
  {
   "cell_type": "code",
   "execution_count": 45,
   "metadata": {
    "pycharm": {
     "is_executing": false,
     "metadata": false,
     "name": "#%%\n"
    }
   },
   "outputs": [
    {
     "name": "stdout",
     "output_type": "stream",
     "text": [
      "['[The Tragedie of Macbeth by William Shakespeare 1603]', '', '', 'Actus Primus. Scoena Prima.', '', 'Thunder and Lightning. Enter three Witches.', '', '1. shall we three meet againe?', 'In Thunder, Lightning, or in Raine?', \"2. Hurley-burley's done,\", \"Battaile's lost, and wonne\", '', '3. That will be ere set of Sunne', '', '1. Where place?', '2. Vpon Heath', '', '3. There to meet with Macbeth', '', '1. I come, Gray-Malkin']\n"
     ]
    },
    {
     "data": {
      "text/plain": [
       "(None, 3287)"
      ]
     },
     "execution_count": 45,
     "metadata": {},
     "output_type": "execute_result"
    }
   ],
   "source": [
    "macbeth = [remove_noise(mac) for mac in macbeth]\n",
    "\n",
    "print(macbeth[0:20]), len(macbeth)\n",
    "# print(macbeth)\n"
   ]
  },
  {
   "cell_type": "code",
   "execution_count": 23,
   "metadata": {
    "pycharm": {
     "metadata": false,
     "name": "#%%\n"
    }
   },
   "outputs": [],
   "source": [
    "sid = SIA()"
   ]
  },
  {
   "cell_type": "code",
   "execution_count": null,
   "metadata": {},
   "outputs": [],
   "source": []
  }
 ],
 "metadata": {
  "kernelspec": {
   "display_name": "Python 3",
   "language": "python",
   "name": "python3"
  },
  "language_info": {
   "codemirror_mode": {
    "name": "ipython",
    "version": 3
   },
   "file_extension": ".py",
   "mimetype": "text/x-python",
   "name": "python",
   "nbconvert_exporter": "python",
   "pygments_lexer": "ipython3",
   "version": "3.7.1"
  }
 },
 "nbformat": 4,
 "nbformat_minor": 1
}
