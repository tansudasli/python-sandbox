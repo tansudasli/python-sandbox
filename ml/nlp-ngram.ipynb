{
  "cells": [
    {
      "cell_type": "code",
      "execution_count": 58,
      "metadata": {
        "collapsed": true,
        "pycharm": {
          "is_executing": false
        }
      },
      "outputs": [],
      "source": [
        "from nltk.corpus import gutenberg\n",
        "from nltk import ngrams\n",
        "from nltk import sentiment"
      ]
    },
    {
      "cell_type": "code",
      "execution_count": 72,
      "metadata": {
        "pycharm": {
          "is_executing": false,
          "metadata": false,
          "name": "#%%\n"
        }
      },
      "outputs": [],
      "source": "def removeNoise(text):\n    noise \u003d [\"is\", \"a\", \"this\", \"...\"]\n    words \u003d text.split()\n    \n    for word in words:\n        if word in noise:\n            words.remove(word)\n            \n    text \u003d \" \".join(words)\n    return text\n\n# removeNoise(\"Tansu is a big giant ...\")\n"
    },
    {
      "cell_type": "code",
      "execution_count": 60,
      "outputs": [
        {
          "data": {
            "text/plain": "[\u0027austen-emma.txt\u0027,\n \u0027austen-persuasion.txt\u0027,\n \u0027austen-sense.txt\u0027,\n \u0027bible-kjv.txt\u0027,\n \u0027blake-poems.txt\u0027,\n \u0027bryant-stories.txt\u0027,\n \u0027burgess-busterbrown.txt\u0027,\n \u0027carroll-alice.txt\u0027,\n \u0027chesterton-ball.txt\u0027,\n \u0027chesterton-brown.txt\u0027,\n \u0027chesterton-thursday.txt\u0027,\n \u0027edgeworth-parents.txt\u0027,\n \u0027melville-moby_dick.txt\u0027,\n \u0027milton-paradise.txt\u0027,\n \u0027shakespeare-caesar.txt\u0027,\n \u0027shakespeare-hamlet.txt\u0027,\n \u0027shakespeare-macbeth.txt\u0027,\n \u0027whitman-leaves.txt\u0027]"
          },
          "metadata": {},
          "output_type": "execute_result",
          "execution_count": 60
        }
      ],
      "source": "gutenberg.fileids()\n",
      "metadata": {
        "pycharm": {
          "metadata": false,
          "name": "#%%\n",
          "is_executing": false
        }
      }
    },
    {
      "cell_type": "code",
      "execution_count": 63,
      "metadata": {
        "pycharm": {
          "is_executing": false,
          "metadata": false,
          "name": "#%%\n"
        }
      },
      "outputs": [
        {
          "data": {
            "text/plain": "([\u0027When\u0027,\n  \u0027the\u0027,\n  \u0027Hurley\u0027,\n  \u0027-\u0027,\n  \u0027burley\u0027,\n  \"\u0027\",\n  \u0027s\u0027,\n  \u0027done\u0027,\n  \u0027,\u0027,\n  \u0027When\u0027,\n  \u0027the\u0027,\n  \u0027Battaile\u0027,\n  \"\u0027\",\n  \u0027s\u0027,\n  \u0027lost\u0027,\n  \u0027,\u0027,\n  \u0027and\u0027,\n  \u0027wonne\u0027],\n 1907)"
          },
          "metadata": {},
          "output_type": "execute_result",
          "execution_count": 63
        }
      ],
      "source": "macbeth_sentences \u003d gutenberg.sents(\"shakespeare-macbeth.txt\")\nmacbeth_sentences[9], len(macbeth_sentences)\n\n# print(\" \".join(macbeth_sentences[9]))"
    },
    {
      "cell_type": "code",
      "execution_count": 64,
      "metadata": {
        "pycharm": {
          "is_executing": false,
          "metadata": false,
          "name": "#%%\n"
        }
      },
      "outputs": [
        {
          "data": {
            "text/plain": "\u003cnltk.sentiment.sentiment_analyzer.SentimentAnalyzer at 0x1a20842208\u003e"
          },
          "metadata": {},
          "output_type": "execute_result",
          "execution_count": 64
        }
      ],
      "source": [
        "senti \u003d sentiment.sentiment_analyzer.SentimentAnalyzer(\"Test\")\n",
        "senti"
      ]
    },
    {
      "cell_type": "code",
      "execution_count": 65,
      "metadata": {
        "pycharm": {
          "is_executing": false,
          "metadata": false,
          "name": "#%%\n"
        }
      },
      "outputs": [
        {
          "name": "stdout",
          "text": [
            "(\u0027When\u0027, \u0027the\u0027, \u0027Hurley\u0027)\n(\u0027the\u0027, \u0027Hurley\u0027, \u0027-\u0027)\n(\u0027Hurley\u0027, \u0027-\u0027, \u0027burley\u0027)\n(\u0027-\u0027, \u0027burley\u0027, \"\u0027\")\n(\u0027burley\u0027, \"\u0027\", \u0027s\u0027)\n(\"\u0027\", \u0027s\u0027, \u0027done\u0027)\n(\u0027s\u0027, \u0027done\u0027, \u0027,\u0027)\n(\u0027done\u0027, \u0027,\u0027, \u0027When\u0027)\n(\u0027,\u0027, \u0027When\u0027, \u0027the\u0027)\n(\u0027When\u0027, \u0027the\u0027, \u0027Battaile\u0027)\n(\u0027the\u0027, \u0027Battaile\u0027, \"\u0027\")\n(\u0027Battaile\u0027, \"\u0027\", \u0027s\u0027)\n(\"\u0027\", \u0027s\u0027, \u0027lost\u0027)\n(\u0027s\u0027, \u0027lost\u0027, \u0027,\u0027)\n(\u0027lost\u0027, \u0027,\u0027, \u0027and\u0027)\n(\u0027,\u0027, \u0027and\u0027, \u0027wonne\u0027)\n"
          ],
          "output_type": "stream"
        }
      ],
      "source": "grams \u003d ngrams(macbeth_sentences[9], 3)\n\nfor g in grams:\n    print(g)\n    "
    },
    {
      "cell_type": "code",
      "execution_count": 74,
      "outputs": [
        {
          "data": {
            "text/plain": "100351"
          },
          "metadata": {},
          "output_type": "execute_result",
          "execution_count": 74
        }
      ],
      "source": "macbeth \u003d gutenberg.raw(\"shakespeare-macbeth.txt\")\nlen(macbeth)",
      "metadata": {
        "pycharm": {
          "metadata": false,
          "name": "#%%\n",
          "is_executing": false
        }
      }
    },
    {
      "cell_type": "code",
      "execution_count": 75,
      "outputs": [
        {
          "data": {
            "text/plain": "96726"
          },
          "metadata": {},
          "output_type": "execute_result",
          "execution_count": 75
        }
      ],
      "source": "macbeth \u003d removeNoise(macbeth)\nlen(macbeth)",
      "metadata": {
        "pycharm": {
          "metadata": false,
          "name": "#%%\n",
          "is_executing": false
        }
      }
    }
  ],
  "metadata": {
    "kernelspec": {
      "display_name": "Python 3",
      "language": "python",
      "name": "python3"
    },
    "language_info": {
      "codemirror_mode": {
        "name": "ipython",
        "version": 3
      },
      "file_extension": ".py",
      "mimetype": "text/x-python",
      "name": "python",
      "nbconvert_exporter": "python",
      "pygments_lexer": "ipython3",
      "version": "3.7.1"
    }
  },
  "nbformat": 4,
  "nbformat_minor": 1
}