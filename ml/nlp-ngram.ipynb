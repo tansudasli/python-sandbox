{
 "cells": [
  {
   "cell_type": "code",
   "execution_count": 1,
   "metadata": {
    "collapsed": true,
    "pycharm": {
     "is_executing": false
    }
   },
   "outputs": [],
   "source": [
    "from nltk.corpus import gutenberg\n",
    "from nltk import ngrams\n",
    "from nltk import sentiment"
   ]
  },
  {
   "cell_type": "code",
   "execution_count": 2,
   "metadata": {
    "pycharm": {
     "is_executing": false,
     "metadata": false,
     "name": "#%%\n"
    }
   },
   "outputs": [
    {
     "data": {
      "text/plain": [
       "['austen-emma.txt',\n",
       " 'austen-persuasion.txt',\n",
       " 'austen-sense.txt',\n",
       " 'bible-kjv.txt',\n",
       " 'blake-poems.txt',\n",
       " 'bryant-stories.txt',\n",
       " 'burgess-busterbrown.txt',\n",
       " 'carroll-alice.txt',\n",
       " 'chesterton-ball.txt',\n",
       " 'chesterton-brown.txt',\n",
       " 'chesterton-thursday.txt',\n",
       " 'edgeworth-parents.txt',\n",
       " 'melville-moby_dick.txt',\n",
       " 'milton-paradise.txt',\n",
       " 'shakespeare-caesar.txt',\n",
       " 'shakespeare-hamlet.txt',\n",
       " 'shakespeare-macbeth.txt',\n",
       " 'whitman-leaves.txt']"
      ]
     },
     "execution_count": 2,
     "metadata": {},
     "output_type": "execute_result"
    }
   ],
   "source": [
    "gutenberg.fileids()"
   ]
  },
  {
   "cell_type": "code",
   "execution_count": 15,
   "metadata": {
    "pycharm": {
     "is_executing": false,
     "metadata": false,
     "name": "#%%\n"
    }
   },
   "outputs": [
    {
     "name": "stdout",
     "output_type": "stream",
     "text": [
      "When the Hurley - burley ' s done , When the Battaile ' s lost , and wonne\n"
     ]
    }
   ],
   "source": [
    "macbeth_sentences = gutenberg.sents(\"shakespeare-macbeth.txt\")\n",
    "macbeth_sentences[9]\n",
    "\n",
    "print(\" \".join(macbeth_sentences[9]))"
   ]
  },
  {
   "cell_type": "code",
   "execution_count": 7,
   "metadata": {
    "pycharm": {
     "is_executing": false,
     "metadata": false,
     "name": "#%%\n"
    }
   },
   "outputs": [
    {
     "data": {
      "text/plain": [
       "<nltk.sentiment.sentiment_analyzer.SentimentAnalyzer at 0x1a20739d68>"
      ]
     },
     "execution_count": 7,
     "metadata": {},
     "output_type": "execute_result"
    }
   ],
   "source": [
    "senti = sentiment.sentiment_analyzer.SentimentAnalyzer(\"Test\")\n",
    "senti"
   ]
  },
  {
   "cell_type": "code",
   "execution_count": 26,
   "metadata": {
    "pycharm": {
     "is_executing": false,
     "metadata": false,
     "name": "#%%\n"
    }
   },
   "outputs": [
    {
     "name": "stdout",
     "output_type": "stream",
     "text": [
      "('When', 'the', 'Hurley')\n",
      "('the', 'Hurley', '-')\n",
      "('Hurley', '-', 'burley')\n",
      "('-', 'burley', \"'\")\n",
      "('burley', \"'\", 's')\n",
      "(\"'\", 's', 'done')\n",
      "('s', 'done', ',')\n",
      "('done', ',', 'When')\n",
      "(',', 'When', 'the')\n",
      "('When', 'the', 'Battaile')\n",
      "('the', 'Battaile', \"'\")\n",
      "('Battaile', \"'\", 's')\n",
      "(\"'\", 's', 'lost')\n",
      "('s', 'lost', ',')\n",
      "('lost', ',', 'and')\n",
      "(',', 'and', 'wonne')\n"
     ]
    }
   ],
   "source": [
    "grams = ngrams(macbeth_sentences[9], 3)\n",
    "\n",
    "for g in grams:\n",
    "    print(g)"
   ]
  }
 ],
 "metadata": {
  "kernelspec": {
   "display_name": "Python 3",
   "language": "python",
   "name": "python3"
  },
  "language_info": {
   "codemirror_mode": {
    "name": "ipython",
    "version": 3
   },
   "file_extension": ".py",
   "mimetype": "text/x-python",
   "name": "python",
   "nbconvert_exporter": "python",
   "pygments_lexer": "ipython3",
   "version": "3.7.1"
  }
 },
 "nbformat": 4,
 "nbformat_minor": 1
}
