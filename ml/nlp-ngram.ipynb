{
  "cells": [
    {
      "cell_type": "code",
      "execution_count": 77,
      "metadata": {
        "collapsed": true,
        "pycharm": {
          "is_executing": false
        }
      },
      "outputs": [],
      "source": [
        "from nltk.corpus import gutenberg\n",
        "from nltk import ngrams\n",
        "from nltk.sentiment.vader import SentimentIntensityAnalyzer"
      ]
    },
    {
      "cell_type": "code",
      "execution_count": 36,
      "metadata": {
        "pycharm": {
          "is_executing": false,
          "metadata": false,
          "name": "#%%\n"
        }
      },
      "outputs": [],
      "source": "def remove_noise(text):\n    noise \u003d [\"is\", \"a\", \"this\", \"When\", \"We\", \",\", \"thou\"]\n    words \u003d text.split()\n    \n    for word in words:\n        if word in noise:\n            words.remove(word)\n            \n    text \u003d \" \".join(words)\n    return text\n\n# remove_noise(\"Tansu is a big giant ...\")"
    },
    {
      "cell_type": "code",
      "execution_count": 60,
      "metadata": {
        "pycharm": {
          "is_executing": false,
          "metadata": false,
          "name": "#%%\n"
        }
      },
      "outputs": [
        {
          "data": {
            "text/plain": [
              "[\u0027austen-emma.txt\u0027,\n",
              " \u0027austen-persuasion.txt\u0027,\n",
              " \u0027austen-sense.txt\u0027,\n",
              " \u0027bible-kjv.txt\u0027,\n",
              " \u0027blake-poems.txt\u0027,\n",
              " \u0027bryant-stories.txt\u0027,\n",
              " \u0027burgess-busterbrown.txt\u0027,\n",
              " \u0027carroll-alice.txt\u0027,\n",
              " \u0027chesterton-ball.txt\u0027,\n",
              " \u0027chesterton-brown.txt\u0027,\n",
              " \u0027chesterton-thursday.txt\u0027,\n",
              " \u0027edgeworth-parents.txt\u0027,\n",
              " \u0027melville-moby_dick.txt\u0027,\n",
              " \u0027milton-paradise.txt\u0027,\n",
              " \u0027shakespeare-caesar.txt\u0027,\n",
              " \u0027shakespeare-hamlet.txt\u0027,\n",
              " \u0027shakespeare-macbeth.txt\u0027,\n",
              " \u0027whitman-leaves.txt\u0027]"
            ]
          },
          "execution_count": 60,
          "metadata": {},
          "output_type": "execute_result"
        }
      ],
      "source": [
        "gutenberg.fileids()"
      ]
    },
    {
      "cell_type": "code",
      "execution_count": 29,
      "metadata": {
        "pycharm": {
          "is_executing": false,
          "metadata": false,
          "name": "#%%\n"
        }
      },
      "outputs": [
        {
          "name": "stdout",
          "output_type": "stream",
          "text": [
            "[[\u0027[\u0027, \u0027The\u0027, \u0027Tragedie\u0027, \u0027of\u0027, \u0027Macbeth\u0027, \u0027by\u0027, \u0027William\u0027, \u0027Shakespeare\u0027, \u00271603\u0027, \u0027]\u0027], [\u0027Actus\u0027, \u0027Primus\u0027, \u0027.\u0027], [\u0027Scoena\u0027, \u0027Prima\u0027, \u0027.\u0027], [\u0027Thunder\u0027, \u0027and\u0027, \u0027Lightning\u0027, \u0027.\u0027], [\u0027Enter\u0027, \u0027three\u0027, \u0027Witches\u0027, \u0027.\u0027], [\u00271\u0027, \u0027.\u0027], [\u0027When\u0027, \u0027shall\u0027, \u0027we\u0027, \u0027three\u0027, \u0027meet\u0027, \u0027againe\u0027, \u0027?\u0027], [\u0027In\u0027, \u0027Thunder\u0027, \u0027,\u0027, \u0027Lightning\u0027, \u0027,\u0027, \u0027or\u0027, \u0027in\u0027, \u0027Raine\u0027, \u0027?\u0027], [\u00272\u0027, \u0027.\u0027]]\n"
          ]
        }
      ],
      "source": [
        "macbeth_sentences \u003d gutenberg.sents(\"shakespeare-macbeth.txt\")\n",
        "print(macbeth_sentences[0:9])\n",
        "# print(\" \".join(macbeth_sentences[9]))"
      ]
    },
    {
      "cell_type": "code",
      "execution_count": 45,
      "metadata": {
        "pycharm": {
          "is_executing": false,
          "metadata": false,
          "name": "#%%\n"
        }
      },
      "outputs": [
        {
          "data": {
            "text/plain": [
              "{\u0027neg\u0027: 0.0, \u0027neu\u0027: 0.328, \u0027pos\u0027: 0.672, \u0027compound\u0027: 0.6249}"
            ]
          },
          "execution_count": 45,
          "metadata": {},
          "output_type": "execute_result"
        }
      ],
      "source": [
        "sid \u003d SentimentIntensityAnalyzer()\n",
        "ss \u003d sid.polarity_scores(\"this is awesome\")\n",
        "ss"
      ]
    },
    {
      "cell_type": "code",
      "execution_count": 30,
      "metadata": {
        "pycharm": {
          "is_executing": false,
          "metadata": false,
          "name": "#%%\n"
        }
      },
      "outputs": [
        {
          "name": "stdout",
          "output_type": "stream",
          "text": [
            "(\u0027When\u0027, \u0027the\u0027, \u0027Hurley\u0027)\n",
            "(\u0027the\u0027, \u0027Hurley\u0027, \u0027-\u0027)\n",
            "(\u0027Hurley\u0027, \u0027-\u0027, \u0027burley\u0027)\n",
            "(\u0027-\u0027, \u0027burley\u0027, \"\u0027\")\n",
            "(\u0027burley\u0027, \"\u0027\", \u0027s\u0027)\n",
            "(\"\u0027\", \u0027s\u0027, \u0027done\u0027)\n",
            "(\u0027s\u0027, \u0027done\u0027, \u0027,\u0027)\n",
            "(\u0027done\u0027, \u0027,\u0027, \u0027When\u0027)\n",
            "(\u0027,\u0027, \u0027When\u0027, \u0027the\u0027)\n",
            "(\u0027When\u0027, \u0027the\u0027, \u0027Battaile\u0027)\n",
            "(\u0027the\u0027, \u0027Battaile\u0027, \"\u0027\")\n",
            "(\u0027Battaile\u0027, \"\u0027\", \u0027s\u0027)\n",
            "(\"\u0027\", \u0027s\u0027, \u0027lost\u0027)\n",
            "(\u0027s\u0027, \u0027lost\u0027, \u0027,\u0027)\n",
            "(\u0027lost\u0027, \u0027,\u0027, \u0027and\u0027)\n",
            "(\u0027,\u0027, \u0027and\u0027, \u0027wonne\u0027)\n"
          ]
        }
      ],
      "source": "grams \u003d ngrams(macbeth_sentences[9], 3)\n\nfor g in grams:\n    print(g)\n    \n"
    }
  ],
  "metadata": {
    "kernelspec": {
      "display_name": "Python 3",
      "language": "python",
      "name": "python3"
    },
    "language_info": {
      "codemirror_mode": {
        "name": "ipython",
        "version": 3
      },
      "file_extension": ".py",
      "mimetype": "text/x-python",
      "name": "python",
      "nbconvert_exporter": "python",
      "pygments_lexer": "ipython3",
      "version": "3.7.1"
    }
  },
  "nbformat": 4,
  "nbformat_minor": 1
}