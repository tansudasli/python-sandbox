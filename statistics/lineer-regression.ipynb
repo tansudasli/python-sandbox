{
  "cells": [
    {
      "cell_type": "code",
      "execution_count": 4,
      "metadata": {
        "collapsed": true,
        "pycharm": {
          "is_executing": false
        }
      },
      "outputs": [],
      "source": "import scipy as sp\nfrom scipy import stats\nfrom numpy import random\n"
    },
    {
      "cell_type": "code",
      "execution_count": 7,
      "outputs": [],
      "source": "temperature \u003d random.randint(0, 100, size\u003d50)\niceCream \u003d random.randint(40, 100, size\u003d50)\n",
      "metadata": {
        "pycharm": {
          "metadata": false,
          "name": "#%%\n",
          "is_executing": false
        }
      }
    },
    {
      "cell_type": "code",
      "execution_count": 9,
      "outputs": [],
      "source": "slope, intercept, rvalue, pvalue, stderr \u003d stats.linregress(temperature, icecream)\n\n# iceCream \u003d 73.83 - 0.04 * temperature\n# slope\u003d-0.04444786256019499, \n# intercept\u003d73.8335189370186, \n# rvalue\u003d-0.07603114714011643, \n# pvalue\u003d0.5997333169519062, \u003c 0.5 !!!not significant !!! \n# stderr\u003d0.08413560198556604\n",
      "metadata": {
        "pycharm": {
          "metadata": false,
          "name": "#%%\n",
          "is_executing": false
        }
      }
    },
    {
      "cell_type": "code",
      "execution_count": 10,
      "outputs": [
        {
          "data": {
            "text/plain": "-0.04444786256019499"
          },
          "metadata": {},
          "output_type": "execute_result",
          "execution_count": 10
        }
      ],
      "source": "slope",
      "metadata": {
        "pycharm": {
          "metadata": false,
          "name": "#%%\n",
          "is_executing": false
        }
      }
    }
  ],
  "metadata": {
    "language_info": {
      "codemirror_mode": {
        "name": "ipython",
        "version": 2
      },
      "file_extension": ".py",
      "mimetype": "text/x-python",
      "name": "python",
      "nbconvert_exporter": "python",
      "pygments_lexer": "ipython2",
      "version": "2.7.6"
    },
    "kernelspec": {
      "name": "python3",
      "language": "python",
      "display_name": "Python 3"
    }
  },
  "nbformat": 4,
  "nbformat_minor": 0
}