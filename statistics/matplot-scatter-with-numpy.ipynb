{
  "cells": [
    {
      "cell_type": "code",
      "execution_count": 6,
      "metadata": {
        "pycharm": {
          "is_executing": false
        }
      },
      "outputs": [
        {
          "name": "stdout",
          "text": [
            "Using matplotlib backend: Qt5Agg\n"
          ],
          "output_type": "stream"
        }
      ],
      "source": "#enable matplotlib backend\n%matplotlib\n"
    },
    {
      "cell_type": "code",
      "execution_count": 7,
      "outputs": [],
      "source": "import numpy as np\nimport matplotlib.pyplot as plt",
      "metadata": {
        "pycharm": {
          "metadata": false,
          "name": "#%%\n",
          "is_executing": false
        }
      }
    },
    {
      "cell_type": "code",
      "execution_count": 9,
      "metadata": {
        "pycharm": {
          "is_executing": false
        }
      },
      "outputs": [
        {
          "data": {
            "text/plain": "(array([0.65358959, 0.11500694, 0.95028286, 0.4821914 , 0.87247454,\n        0.21233268, 0.04070962, 0.39719446, 0.2331322 , 0.84174072,\n        0.20708234, 0.74246953, 0.39215413, 0.18225652, 0.74353941,\n        0.06958208, 0.8853372 , 0.9526444 , 0.93114343, 0.41543095]),\n array([0.02898166, 0.98202748, 0.33963768, 0.70668719, 0.36187707,\n        0.0351059 , 0.85505825, 0.65725351, 0.76568299, 0.55408724,\n        0.88509294, 0.90419762, 0.0104217 , 0.07455674, 0.24462921,\n        0.13330475, 0.6979251 , 0.39820488, 0.88312219, 0.18100751]),\n array([0.43249917, 0.0181432 , 0.69143786, 0.46969065, 0.12822219,\n        0.89133705, 0.91820362, 0.07312099, 0.04544794, 0.4385729 ,\n        0.60172093, 0.31022703, 0.68190824, 0.20901315, 0.5196043 ,\n        0.56598883, 0.44116739, 0.13755616, 0.21354319, 0.13337189]),\n array([ 93.48764742,  49.23286438, 250.42887414, 288.29102057,\n        172.8372602 ,  93.24178752, 281.87805329, 673.94067739,\n        646.09944686,  10.46208715,  90.05221435, 150.90549481,\n        424.88218175, 443.82095908, 179.18334483, 159.0035844 ,\n        579.79427915, 261.0979935 , 767.56783855,   3.44928885]))"
          },
          "metadata": {},
          "output_type": "execute_result",
          "execution_count": 9
        }
      ],
      "source": "np.random.seed(1000) # same numbers will generate\n\nN \u003d 20\nx \u003d np.random.rand(N)\ny \u003d np.random.rand(N)\n\ncolours \u003d np.random.rand(N)\narea \u003d (30 * np.random.rand(N)) ** 2\n\nx, y, colours, area"
    },
    {
      "cell_type": "code",
      "execution_count": 10,
      "metadata": {
        "pycharm": {
          "is_executing": false
        }
      },
      "outputs": [],
      "source": "plt.scatter(x, y, s\u003darea, c\u003dcolours, alpha\u003d0.5)\n\nplt.show()"
    }
  ],
  "metadata": {
    "kernelspec": {
      "display_name": "Python 3",
      "language": "python",
      "name": "python3"
    },
    "language_info": {
      "codemirror_mode": {
        "name": "ipython",
        "version": 3
      },
      "file_extension": ".py",
      "mimetype": "text/x-python",
      "name": "python",
      "nbconvert_exporter": "python",
      "pygments_lexer": "ipython3",
      "version": "3.7.1"
    }
  },
  "nbformat": 4,
  "nbformat_minor": 1
}